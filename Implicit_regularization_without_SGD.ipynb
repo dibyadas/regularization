{
  "nbformat": 4,
  "nbformat_minor": 0,
  "metadata": {
    "kernelspec": {
      "display_name": "Python 3",
      "language": "python",
      "name": "python3"
    },
    "language_info": {
      "codemirror_mode": {
        "name": "ipython",
        "version": 3
      },
      "file_extension": ".py",
      "mimetype": "text/x-python",
      "name": "python",
      "nbconvert_exporter": "python",
      "pygments_lexer": "ipython3",
      "version": "3.7.3"
    },
    "colab": {
      "name": "Implicit regularization without SGD",
      "provenance": [],
      "collapsed_sections": []
    },
    "accelerator": "GPU",
    "widgets": {
      "application/vnd.jupyter.widget-state+json": {
        "c202918bbb444fc0a59c46ff1515ffe5": {
          "model_module": "@jupyter-widgets/controls",
          "model_name": "HBoxModel",
          "state": {
            "_view_name": "HBoxView",
            "_dom_classes": [],
            "_model_name": "HBoxModel",
            "_view_module": "@jupyter-widgets/controls",
            "_model_module_version": "1.5.0",
            "_view_count": null,
            "_view_module_version": "1.5.0",
            "box_style": "",
            "layout": "IPY_MODEL_a0de9c8875d046a3a9c89ff4aad0be36",
            "_model_module": "@jupyter-widgets/controls",
            "children": [
              "IPY_MODEL_3f70a7c80d7541d1878fe893f82d9e71",
              "IPY_MODEL_3521996bc4e14f01a3e1a2c4925b8256"
            ]
          }
        },
        "a0de9c8875d046a3a9c89ff4aad0be36": {
          "model_module": "@jupyter-widgets/base",
          "model_name": "LayoutModel",
          "state": {
            "_view_name": "LayoutView",
            "grid_template_rows": null,
            "right": null,
            "justify_content": null,
            "_view_module": "@jupyter-widgets/base",
            "overflow": null,
            "_model_module_version": "1.2.0",
            "_view_count": null,
            "flex_flow": null,
            "width": null,
            "min_width": null,
            "border": null,
            "align_items": null,
            "bottom": null,
            "_model_module": "@jupyter-widgets/base",
            "top": null,
            "grid_column": null,
            "overflow_y": null,
            "overflow_x": null,
            "grid_auto_flow": null,
            "grid_area": null,
            "grid_template_columns": null,
            "flex": null,
            "_model_name": "LayoutModel",
            "justify_items": null,
            "grid_row": null,
            "max_height": null,
            "align_content": null,
            "visibility": null,
            "align_self": null,
            "height": null,
            "min_height": null,
            "padding": null,
            "grid_auto_rows": null,
            "grid_gap": null,
            "max_width": null,
            "order": null,
            "_view_module_version": "1.2.0",
            "grid_template_areas": null,
            "object_position": null,
            "object_fit": null,
            "grid_auto_columns": null,
            "margin": null,
            "display": null,
            "left": null
          }
        },
        "3f70a7c80d7541d1878fe893f82d9e71": {
          "model_module": "@jupyter-widgets/controls",
          "model_name": "FloatProgressModel",
          "state": {
            "_view_name": "ProgressView",
            "style": "IPY_MODEL_8a694eb9cd944ad48127a2012e09c350",
            "_dom_classes": [],
            "description": "",
            "_model_name": "FloatProgressModel",
            "bar_style": "success",
            "max": 1,
            "_view_module": "@jupyter-widgets/controls",
            "_model_module_version": "1.5.0",
            "value": 1,
            "_view_count": null,
            "_view_module_version": "1.5.0",
            "orientation": "horizontal",
            "min": 0,
            "description_tooltip": null,
            "_model_module": "@jupyter-widgets/controls",
            "layout": "IPY_MODEL_2896623fc96c44329ec6297c5f51f766"
          }
        },
        "3521996bc4e14f01a3e1a2c4925b8256": {
          "model_module": "@jupyter-widgets/controls",
          "model_name": "HTMLModel",
          "state": {
            "_view_name": "HTMLView",
            "style": "IPY_MODEL_4af890b6078449b090d14c426f4354d6",
            "_dom_classes": [],
            "description": "",
            "_model_name": "HTMLModel",
            "placeholder": "​",
            "_view_module": "@jupyter-widgets/controls",
            "_model_module_version": "1.5.0",
            "value": " 9920512/? [00:00&lt;00:00, 13990210.86it/s]",
            "_view_count": null,
            "_view_module_version": "1.5.0",
            "description_tooltip": null,
            "_model_module": "@jupyter-widgets/controls",
            "layout": "IPY_MODEL_d365191e6a63473fb4089c87965798af"
          }
        },
        "8a694eb9cd944ad48127a2012e09c350": {
          "model_module": "@jupyter-widgets/controls",
          "model_name": "ProgressStyleModel",
          "state": {
            "_view_name": "StyleView",
            "_model_name": "ProgressStyleModel",
            "description_width": "initial",
            "_view_module": "@jupyter-widgets/base",
            "_model_module_version": "1.5.0",
            "_view_count": null,
            "_view_module_version": "1.2.0",
            "bar_color": null,
            "_model_module": "@jupyter-widgets/controls"
          }
        },
        "2896623fc96c44329ec6297c5f51f766": {
          "model_module": "@jupyter-widgets/base",
          "model_name": "LayoutModel",
          "state": {
            "_view_name": "LayoutView",
            "grid_template_rows": null,
            "right": null,
            "justify_content": null,
            "_view_module": "@jupyter-widgets/base",
            "overflow": null,
            "_model_module_version": "1.2.0",
            "_view_count": null,
            "flex_flow": null,
            "width": null,
            "min_width": null,
            "border": null,
            "align_items": null,
            "bottom": null,
            "_model_module": "@jupyter-widgets/base",
            "top": null,
            "grid_column": null,
            "overflow_y": null,
            "overflow_x": null,
            "grid_auto_flow": null,
            "grid_area": null,
            "grid_template_columns": null,
            "flex": null,
            "_model_name": "LayoutModel",
            "justify_items": null,
            "grid_row": null,
            "max_height": null,
            "align_content": null,
            "visibility": null,
            "align_self": null,
            "height": null,
            "min_height": null,
            "padding": null,
            "grid_auto_rows": null,
            "grid_gap": null,
            "max_width": null,
            "order": null,
            "_view_module_version": "1.2.0",
            "grid_template_areas": null,
            "object_position": null,
            "object_fit": null,
            "grid_auto_columns": null,
            "margin": null,
            "display": null,
            "left": null
          }
        },
        "4af890b6078449b090d14c426f4354d6": {
          "model_module": "@jupyter-widgets/controls",
          "model_name": "DescriptionStyleModel",
          "state": {
            "_view_name": "StyleView",
            "_model_name": "DescriptionStyleModel",
            "description_width": "",
            "_view_module": "@jupyter-widgets/base",
            "_model_module_version": "1.5.0",
            "_view_count": null,
            "_view_module_version": "1.2.0",
            "_model_module": "@jupyter-widgets/controls"
          }
        },
        "d365191e6a63473fb4089c87965798af": {
          "model_module": "@jupyter-widgets/base",
          "model_name": "LayoutModel",
          "state": {
            "_view_name": "LayoutView",
            "grid_template_rows": null,
            "right": null,
            "justify_content": null,
            "_view_module": "@jupyter-widgets/base",
            "overflow": null,
            "_model_module_version": "1.2.0",
            "_view_count": null,
            "flex_flow": null,
            "width": null,
            "min_width": null,
            "border": null,
            "align_items": null,
            "bottom": null,
            "_model_module": "@jupyter-widgets/base",
            "top": null,
            "grid_column": null,
            "overflow_y": null,
            "overflow_x": null,
            "grid_auto_flow": null,
            "grid_area": null,
            "grid_template_columns": null,
            "flex": null,
            "_model_name": "LayoutModel",
            "justify_items": null,
            "grid_row": null,
            "max_height": null,
            "align_content": null,
            "visibility": null,
            "align_self": null,
            "height": null,
            "min_height": null,
            "padding": null,
            "grid_auto_rows": null,
            "grid_gap": null,
            "max_width": null,
            "order": null,
            "_view_module_version": "1.2.0",
            "grid_template_areas": null,
            "object_position": null,
            "object_fit": null,
            "grid_auto_columns": null,
            "margin": null,
            "display": null,
            "left": null
          }
        },
        "36f792be23a24b74bc85008c39576ce7": {
          "model_module": "@jupyter-widgets/controls",
          "model_name": "HBoxModel",
          "state": {
            "_view_name": "HBoxView",
            "_dom_classes": [],
            "_model_name": "HBoxModel",
            "_view_module": "@jupyter-widgets/controls",
            "_model_module_version": "1.5.0",
            "_view_count": null,
            "_view_module_version": "1.5.0",
            "box_style": "",
            "layout": "IPY_MODEL_9005dfadc7784df6955f923b4064ccfd",
            "_model_module": "@jupyter-widgets/controls",
            "children": [
              "IPY_MODEL_d095bb47740a46dab5577f5fd5f43bda",
              "IPY_MODEL_fd98b15e80784f0f9fd2f9399700aa9d"
            ]
          }
        },
        "9005dfadc7784df6955f923b4064ccfd": {
          "model_module": "@jupyter-widgets/base",
          "model_name": "LayoutModel",
          "state": {
            "_view_name": "LayoutView",
            "grid_template_rows": null,
            "right": null,
            "justify_content": null,
            "_view_module": "@jupyter-widgets/base",
            "overflow": null,
            "_model_module_version": "1.2.0",
            "_view_count": null,
            "flex_flow": null,
            "width": null,
            "min_width": null,
            "border": null,
            "align_items": null,
            "bottom": null,
            "_model_module": "@jupyter-widgets/base",
            "top": null,
            "grid_column": null,
            "overflow_y": null,
            "overflow_x": null,
            "grid_auto_flow": null,
            "grid_area": null,
            "grid_template_columns": null,
            "flex": null,
            "_model_name": "LayoutModel",
            "justify_items": null,
            "grid_row": null,
            "max_height": null,
            "align_content": null,
            "visibility": null,
            "align_self": null,
            "height": null,
            "min_height": null,
            "padding": null,
            "grid_auto_rows": null,
            "grid_gap": null,
            "max_width": null,
            "order": null,
            "_view_module_version": "1.2.0",
            "grid_template_areas": null,
            "object_position": null,
            "object_fit": null,
            "grid_auto_columns": null,
            "margin": null,
            "display": null,
            "left": null
          }
        },
        "d095bb47740a46dab5577f5fd5f43bda": {
          "model_module": "@jupyter-widgets/controls",
          "model_name": "FloatProgressModel",
          "state": {
            "_view_name": "ProgressView",
            "style": "IPY_MODEL_8d81792109ed411f936bb82ffb795433",
            "_dom_classes": [],
            "description": "",
            "_model_name": "FloatProgressModel",
            "bar_style": "success",
            "max": 1,
            "_view_module": "@jupyter-widgets/controls",
            "_model_module_version": "1.5.0",
            "value": 1,
            "_view_count": null,
            "_view_module_version": "1.5.0",
            "orientation": "horizontal",
            "min": 0,
            "description_tooltip": null,
            "_model_module": "@jupyter-widgets/controls",
            "layout": "IPY_MODEL_34c5cbf7c4594e6e93c3ac7a1e905d1e"
          }
        },
        "fd98b15e80784f0f9fd2f9399700aa9d": {
          "model_module": "@jupyter-widgets/controls",
          "model_name": "HTMLModel",
          "state": {
            "_view_name": "HTMLView",
            "style": "IPY_MODEL_19a69d9dedb24db98871e959a68c782e",
            "_dom_classes": [],
            "description": "",
            "_model_name": "HTMLModel",
            "placeholder": "​",
            "_view_module": "@jupyter-widgets/controls",
            "_model_module_version": "1.5.0",
            "value": " 32768/? [00:00&lt;00:00, 315959.61it/s]",
            "_view_count": null,
            "_view_module_version": "1.5.0",
            "description_tooltip": null,
            "_model_module": "@jupyter-widgets/controls",
            "layout": "IPY_MODEL_fe4f40fa4f294a00a6f81d45fc9462e4"
          }
        },
        "8d81792109ed411f936bb82ffb795433": {
          "model_module": "@jupyter-widgets/controls",
          "model_name": "ProgressStyleModel",
          "state": {
            "_view_name": "StyleView",
            "_model_name": "ProgressStyleModel",
            "description_width": "initial",
            "_view_module": "@jupyter-widgets/base",
            "_model_module_version": "1.5.0",
            "_view_count": null,
            "_view_module_version": "1.2.0",
            "bar_color": null,
            "_model_module": "@jupyter-widgets/controls"
          }
        },
        "34c5cbf7c4594e6e93c3ac7a1e905d1e": {
          "model_module": "@jupyter-widgets/base",
          "model_name": "LayoutModel",
          "state": {
            "_view_name": "LayoutView",
            "grid_template_rows": null,
            "right": null,
            "justify_content": null,
            "_view_module": "@jupyter-widgets/base",
            "overflow": null,
            "_model_module_version": "1.2.0",
            "_view_count": null,
            "flex_flow": null,
            "width": null,
            "min_width": null,
            "border": null,
            "align_items": null,
            "bottom": null,
            "_model_module": "@jupyter-widgets/base",
            "top": null,
            "grid_column": null,
            "overflow_y": null,
            "overflow_x": null,
            "grid_auto_flow": null,
            "grid_area": null,
            "grid_template_columns": null,
            "flex": null,
            "_model_name": "LayoutModel",
            "justify_items": null,
            "grid_row": null,
            "max_height": null,
            "align_content": null,
            "visibility": null,
            "align_self": null,
            "height": null,
            "min_height": null,
            "padding": null,
            "grid_auto_rows": null,
            "grid_gap": null,
            "max_width": null,
            "order": null,
            "_view_module_version": "1.2.0",
            "grid_template_areas": null,
            "object_position": null,
            "object_fit": null,
            "grid_auto_columns": null,
            "margin": null,
            "display": null,
            "left": null
          }
        },
        "19a69d9dedb24db98871e959a68c782e": {
          "model_module": "@jupyter-widgets/controls",
          "model_name": "DescriptionStyleModel",
          "state": {
            "_view_name": "StyleView",
            "_model_name": "DescriptionStyleModel",
            "description_width": "",
            "_view_module": "@jupyter-widgets/base",
            "_model_module_version": "1.5.0",
            "_view_count": null,
            "_view_module_version": "1.2.0",
            "_model_module": "@jupyter-widgets/controls"
          }
        },
        "fe4f40fa4f294a00a6f81d45fc9462e4": {
          "model_module": "@jupyter-widgets/base",
          "model_name": "LayoutModel",
          "state": {
            "_view_name": "LayoutView",
            "grid_template_rows": null,
            "right": null,
            "justify_content": null,
            "_view_module": "@jupyter-widgets/base",
            "overflow": null,
            "_model_module_version": "1.2.0",
            "_view_count": null,
            "flex_flow": null,
            "width": null,
            "min_width": null,
            "border": null,
            "align_items": null,
            "bottom": null,
            "_model_module": "@jupyter-widgets/base",
            "top": null,
            "grid_column": null,
            "overflow_y": null,
            "overflow_x": null,
            "grid_auto_flow": null,
            "grid_area": null,
            "grid_template_columns": null,
            "flex": null,
            "_model_name": "LayoutModel",
            "justify_items": null,
            "grid_row": null,
            "max_height": null,
            "align_content": null,
            "visibility": null,
            "align_self": null,
            "height": null,
            "min_height": null,
            "padding": null,
            "grid_auto_rows": null,
            "grid_gap": null,
            "max_width": null,
            "order": null,
            "_view_module_version": "1.2.0",
            "grid_template_areas": null,
            "object_position": null,
            "object_fit": null,
            "grid_auto_columns": null,
            "margin": null,
            "display": null,
            "left": null
          }
        },
        "5989d465acc848dea499e6721b247685": {
          "model_module": "@jupyter-widgets/controls",
          "model_name": "HBoxModel",
          "state": {
            "_view_name": "HBoxView",
            "_dom_classes": [],
            "_model_name": "HBoxModel",
            "_view_module": "@jupyter-widgets/controls",
            "_model_module_version": "1.5.0",
            "_view_count": null,
            "_view_module_version": "1.5.0",
            "box_style": "",
            "layout": "IPY_MODEL_e0d4907a7b8046eeaa450f4e7d97e6de",
            "_model_module": "@jupyter-widgets/controls",
            "children": [
              "IPY_MODEL_4b6364912da44e14b1eff0763466a84e",
              "IPY_MODEL_39d6e2fad0aa41c18a58a2c733f3b8a3"
            ]
          }
        },
        "e0d4907a7b8046eeaa450f4e7d97e6de": {
          "model_module": "@jupyter-widgets/base",
          "model_name": "LayoutModel",
          "state": {
            "_view_name": "LayoutView",
            "grid_template_rows": null,
            "right": null,
            "justify_content": null,
            "_view_module": "@jupyter-widgets/base",
            "overflow": null,
            "_model_module_version": "1.2.0",
            "_view_count": null,
            "flex_flow": null,
            "width": null,
            "min_width": null,
            "border": null,
            "align_items": null,
            "bottom": null,
            "_model_module": "@jupyter-widgets/base",
            "top": null,
            "grid_column": null,
            "overflow_y": null,
            "overflow_x": null,
            "grid_auto_flow": null,
            "grid_area": null,
            "grid_template_columns": null,
            "flex": null,
            "_model_name": "LayoutModel",
            "justify_items": null,
            "grid_row": null,
            "max_height": null,
            "align_content": null,
            "visibility": null,
            "align_self": null,
            "height": null,
            "min_height": null,
            "padding": null,
            "grid_auto_rows": null,
            "grid_gap": null,
            "max_width": null,
            "order": null,
            "_view_module_version": "1.2.0",
            "grid_template_areas": null,
            "object_position": null,
            "object_fit": null,
            "grid_auto_columns": null,
            "margin": null,
            "display": null,
            "left": null
          }
        },
        "4b6364912da44e14b1eff0763466a84e": {
          "model_module": "@jupyter-widgets/controls",
          "model_name": "FloatProgressModel",
          "state": {
            "_view_name": "ProgressView",
            "style": "IPY_MODEL_d231bb0a4d054e5f9d16e4ec0cd9f0e0",
            "_dom_classes": [],
            "description": "",
            "_model_name": "FloatProgressModel",
            "bar_style": "info",
            "max": 1,
            "_view_module": "@jupyter-widgets/controls",
            "_model_module_version": "1.5.0",
            "value": 1,
            "_view_count": null,
            "_view_module_version": "1.5.0",
            "orientation": "horizontal",
            "min": 0,
            "description_tooltip": null,
            "_model_module": "@jupyter-widgets/controls",
            "layout": "IPY_MODEL_c94dc2321c054dbaba41db4abeb24c0d"
          }
        },
        "39d6e2fad0aa41c18a58a2c733f3b8a3": {
          "model_module": "@jupyter-widgets/controls",
          "model_name": "HTMLModel",
          "state": {
            "_view_name": "HTMLView",
            "style": "IPY_MODEL_fb37378710894fbb9c7532068a8a9864",
            "_dom_classes": [],
            "description": "",
            "_model_name": "HTMLModel",
            "placeholder": "​",
            "_view_module": "@jupyter-widgets/controls",
            "_model_module_version": "1.5.0",
            "value": " 1654784/? [00:19&lt;00:00, 117562.44it/s]",
            "_view_count": null,
            "_view_module_version": "1.5.0",
            "description_tooltip": null,
            "_model_module": "@jupyter-widgets/controls",
            "layout": "IPY_MODEL_cd929ec40d614d5e9100e01ace703ce6"
          }
        },
        "d231bb0a4d054e5f9d16e4ec0cd9f0e0": {
          "model_module": "@jupyter-widgets/controls",
          "model_name": "ProgressStyleModel",
          "state": {
            "_view_name": "StyleView",
            "_model_name": "ProgressStyleModel",
            "description_width": "initial",
            "_view_module": "@jupyter-widgets/base",
            "_model_module_version": "1.5.0",
            "_view_count": null,
            "_view_module_version": "1.2.0",
            "bar_color": null,
            "_model_module": "@jupyter-widgets/controls"
          }
        },
        "c94dc2321c054dbaba41db4abeb24c0d": {
          "model_module": "@jupyter-widgets/base",
          "model_name": "LayoutModel",
          "state": {
            "_view_name": "LayoutView",
            "grid_template_rows": null,
            "right": null,
            "justify_content": null,
            "_view_module": "@jupyter-widgets/base",
            "overflow": null,
            "_model_module_version": "1.2.0",
            "_view_count": null,
            "flex_flow": null,
            "width": null,
            "min_width": null,
            "border": null,
            "align_items": null,
            "bottom": null,
            "_model_module": "@jupyter-widgets/base",
            "top": null,
            "grid_column": null,
            "overflow_y": null,
            "overflow_x": null,
            "grid_auto_flow": null,
            "grid_area": null,
            "grid_template_columns": null,
            "flex": null,
            "_model_name": "LayoutModel",
            "justify_items": null,
            "grid_row": null,
            "max_height": null,
            "align_content": null,
            "visibility": null,
            "align_self": null,
            "height": null,
            "min_height": null,
            "padding": null,
            "grid_auto_rows": null,
            "grid_gap": null,
            "max_width": null,
            "order": null,
            "_view_module_version": "1.2.0",
            "grid_template_areas": null,
            "object_position": null,
            "object_fit": null,
            "grid_auto_columns": null,
            "margin": null,
            "display": null,
            "left": null
          }
        },
        "fb37378710894fbb9c7532068a8a9864": {
          "model_module": "@jupyter-widgets/controls",
          "model_name": "DescriptionStyleModel",
          "state": {
            "_view_name": "StyleView",
            "_model_name": "DescriptionStyleModel",
            "description_width": "",
            "_view_module": "@jupyter-widgets/base",
            "_model_module_version": "1.5.0",
            "_view_count": null,
            "_view_module_version": "1.2.0",
            "_model_module": "@jupyter-widgets/controls"
          }
        },
        "cd929ec40d614d5e9100e01ace703ce6": {
          "model_module": "@jupyter-widgets/base",
          "model_name": "LayoutModel",
          "state": {
            "_view_name": "LayoutView",
            "grid_template_rows": null,
            "right": null,
            "justify_content": null,
            "_view_module": "@jupyter-widgets/base",
            "overflow": null,
            "_model_module_version": "1.2.0",
            "_view_count": null,
            "flex_flow": null,
            "width": null,
            "min_width": null,
            "border": null,
            "align_items": null,
            "bottom": null,
            "_model_module": "@jupyter-widgets/base",
            "top": null,
            "grid_column": null,
            "overflow_y": null,
            "overflow_x": null,
            "grid_auto_flow": null,
            "grid_area": null,
            "grid_template_columns": null,
            "flex": null,
            "_model_name": "LayoutModel",
            "justify_items": null,
            "grid_row": null,
            "max_height": null,
            "align_content": null,
            "visibility": null,
            "align_self": null,
            "height": null,
            "min_height": null,
            "padding": null,
            "grid_auto_rows": null,
            "grid_gap": null,
            "max_width": null,
            "order": null,
            "_view_module_version": "1.2.0",
            "grid_template_areas": null,
            "object_position": null,
            "object_fit": null,
            "grid_auto_columns": null,
            "margin": null,
            "display": null,
            "left": null
          }
        },
        "bdaa667ba0164abfa7910a42e3ef2779": {
          "model_module": "@jupyter-widgets/controls",
          "model_name": "HBoxModel",
          "state": {
            "_view_name": "HBoxView",
            "_dom_classes": [],
            "_model_name": "HBoxModel",
            "_view_module": "@jupyter-widgets/controls",
            "_model_module_version": "1.5.0",
            "_view_count": null,
            "_view_module_version": "1.5.0",
            "box_style": "",
            "layout": "IPY_MODEL_9ea41a9d68b1466b849c1ffcf450d98e",
            "_model_module": "@jupyter-widgets/controls",
            "children": [
              "IPY_MODEL_841d82f8d2b94d5fa8c55e6b1880d5ca",
              "IPY_MODEL_9f198d04ff984f1193cfd3a914d60e13"
            ]
          }
        },
        "9ea41a9d68b1466b849c1ffcf450d98e": {
          "model_module": "@jupyter-widgets/base",
          "model_name": "LayoutModel",
          "state": {
            "_view_name": "LayoutView",
            "grid_template_rows": null,
            "right": null,
            "justify_content": null,
            "_view_module": "@jupyter-widgets/base",
            "overflow": null,
            "_model_module_version": "1.2.0",
            "_view_count": null,
            "flex_flow": null,
            "width": null,
            "min_width": null,
            "border": null,
            "align_items": null,
            "bottom": null,
            "_model_module": "@jupyter-widgets/base",
            "top": null,
            "grid_column": null,
            "overflow_y": null,
            "overflow_x": null,
            "grid_auto_flow": null,
            "grid_area": null,
            "grid_template_columns": null,
            "flex": null,
            "_model_name": "LayoutModel",
            "justify_items": null,
            "grid_row": null,
            "max_height": null,
            "align_content": null,
            "visibility": null,
            "align_self": null,
            "height": null,
            "min_height": null,
            "padding": null,
            "grid_auto_rows": null,
            "grid_gap": null,
            "max_width": null,
            "order": null,
            "_view_module_version": "1.2.0",
            "grid_template_areas": null,
            "object_position": null,
            "object_fit": null,
            "grid_auto_columns": null,
            "margin": null,
            "display": null,
            "left": null
          }
        },
        "841d82f8d2b94d5fa8c55e6b1880d5ca": {
          "model_module": "@jupyter-widgets/controls",
          "model_name": "FloatProgressModel",
          "state": {
            "_view_name": "ProgressView",
            "style": "IPY_MODEL_cd4db5e6d1b542a194b5888ea7edf0f0",
            "_dom_classes": [],
            "description": "",
            "_model_name": "FloatProgressModel",
            "bar_style": "info",
            "max": 1,
            "_view_module": "@jupyter-widgets/controls",
            "_model_module_version": "1.5.0",
            "value": 0,
            "_view_count": null,
            "_view_module_version": "1.5.0",
            "orientation": "horizontal",
            "min": 0,
            "description_tooltip": null,
            "_model_module": "@jupyter-widgets/controls",
            "layout": "IPY_MODEL_a2f0896bdd2a46c6aa225b73c69ae53d"
          }
        },
        "9f198d04ff984f1193cfd3a914d60e13": {
          "model_module": "@jupyter-widgets/controls",
          "model_name": "HTMLModel",
          "state": {
            "_view_name": "HTMLView",
            "style": "IPY_MODEL_95a7cf72387544799bd183f42d4dd6b8",
            "_dom_classes": [],
            "description": "",
            "_model_name": "HTMLModel",
            "placeholder": "​",
            "_view_module": "@jupyter-widgets/controls",
            "_model_module_version": "1.5.0",
            "value": " 0/? [00:00&lt;?, ?it/s]",
            "_view_count": null,
            "_view_module_version": "1.5.0",
            "description_tooltip": null,
            "_model_module": "@jupyter-widgets/controls",
            "layout": "IPY_MODEL_bf09a29ce5c3434a8238b35162cdbe28"
          }
        },
        "cd4db5e6d1b542a194b5888ea7edf0f0": {
          "model_module": "@jupyter-widgets/controls",
          "model_name": "ProgressStyleModel",
          "state": {
            "_view_name": "StyleView",
            "_model_name": "ProgressStyleModel",
            "description_width": "initial",
            "_view_module": "@jupyter-widgets/base",
            "_model_module_version": "1.5.0",
            "_view_count": null,
            "_view_module_version": "1.2.0",
            "bar_color": null,
            "_model_module": "@jupyter-widgets/controls"
          }
        },
        "a2f0896bdd2a46c6aa225b73c69ae53d": {
          "model_module": "@jupyter-widgets/base",
          "model_name": "LayoutModel",
          "state": {
            "_view_name": "LayoutView",
            "grid_template_rows": null,
            "right": null,
            "justify_content": null,
            "_view_module": "@jupyter-widgets/base",
            "overflow": null,
            "_model_module_version": "1.2.0",
            "_view_count": null,
            "flex_flow": null,
            "width": null,
            "min_width": null,
            "border": null,
            "align_items": null,
            "bottom": null,
            "_model_module": "@jupyter-widgets/base",
            "top": null,
            "grid_column": null,
            "overflow_y": null,
            "overflow_x": null,
            "grid_auto_flow": null,
            "grid_area": null,
            "grid_template_columns": null,
            "flex": null,
            "_model_name": "LayoutModel",
            "justify_items": null,
            "grid_row": null,
            "max_height": null,
            "align_content": null,
            "visibility": null,
            "align_self": null,
            "height": null,
            "min_height": null,
            "padding": null,
            "grid_auto_rows": null,
            "grid_gap": null,
            "max_width": null,
            "order": null,
            "_view_module_version": "1.2.0",
            "grid_template_areas": null,
            "object_position": null,
            "object_fit": null,
            "grid_auto_columns": null,
            "margin": null,
            "display": null,
            "left": null
          }
        },
        "95a7cf72387544799bd183f42d4dd6b8": {
          "model_module": "@jupyter-widgets/controls",
          "model_name": "DescriptionStyleModel",
          "state": {
            "_view_name": "StyleView",
            "_model_name": "DescriptionStyleModel",
            "description_width": "",
            "_view_module": "@jupyter-widgets/base",
            "_model_module_version": "1.5.0",
            "_view_count": null,
            "_view_module_version": "1.2.0",
            "_model_module": "@jupyter-widgets/controls"
          }
        },
        "bf09a29ce5c3434a8238b35162cdbe28": {
          "model_module": "@jupyter-widgets/base",
          "model_name": "LayoutModel",
          "state": {
            "_view_name": "LayoutView",
            "grid_template_rows": null,
            "right": null,
            "justify_content": null,
            "_view_module": "@jupyter-widgets/base",
            "overflow": null,
            "_model_module_version": "1.2.0",
            "_view_count": null,
            "flex_flow": null,
            "width": null,
            "min_width": null,
            "border": null,
            "align_items": null,
            "bottom": null,
            "_model_module": "@jupyter-widgets/base",
            "top": null,
            "grid_column": null,
            "overflow_y": null,
            "overflow_x": null,
            "grid_auto_flow": null,
            "grid_area": null,
            "grid_template_columns": null,
            "flex": null,
            "_model_name": "LayoutModel",
            "justify_items": null,
            "grid_row": null,
            "max_height": null,
            "align_content": null,
            "visibility": null,
            "align_self": null,
            "height": null,
            "min_height": null,
            "padding": null,
            "grid_auto_rows": null,
            "grid_gap": null,
            "max_width": null,
            "order": null,
            "_view_module_version": "1.2.0",
            "grid_template_areas": null,
            "object_position": null,
            "object_fit": null,
            "grid_auto_columns": null,
            "margin": null,
            "display": null,
            "left": null
          }
        }
      }
    }
  },
  "cells": [
    {
      "cell_type": "markdown",
      "metadata": {
        "id": "Kybw40OmzGWV"
      },
      "source": [
        "\n",
        "Here I see that hidden sparse subnetworks also show implicit rank minimization property even though the weights of the sparse subnetworks were frozen from the beginning and thus never trained using SGD. Indicates that there are some other factors at play that causes generalization."
      ]
    },
    {
      "cell_type": "code",
      "metadata": {
        "id": "1-6tzN5AzGWd"
      },
      "source": [
        "%matplotlib inline\n",
        "import os\n",
        "\n",
        "import torch\n",
        "import torch.nn as nn\n",
        "import torch.nn.functional as F"
      ],
      "execution_count": null,
      "outputs": []
    },
    {
      "cell_type": "markdown",
      "metadata": {
        "id": "ZmFVydyCzGXG"
      },
      "source": [
        "Parameter Settings\n",
        "-------------------\n"
      ]
    },
    {
      "cell_type": "code",
      "metadata": {
        "id": "DjKrJPzHzGXV"
      },
      "source": [
        "latent_dims = 128\n",
        "num_epochs = 50\n",
        "batch_size = 128\n",
        "capacity = 24\n",
        "learning_rate = 1e-3\n",
        "use_gpu = True"
      ],
      "execution_count": null,
      "outputs": []
    },
    {
      "cell_type": "markdown",
      "metadata": {
        "id": "McnDqHY1zGX0"
      },
      "source": [
        "Results on MNIST\n",
        "-------------------\n",
        "\n",
        "In the paper, they have used a latent dimension of 128 and number of linear layers at the end of encoder as 8"
      ]
    },
    {
      "cell_type": "code",
      "metadata": {
        "id": "vxIgGaS5zGX8",
        "colab": {
          "base_uri": "https://localhost:8080/",
          "height": 408,
          "referenced_widgets": [
            "c202918bbb444fc0a59c46ff1515ffe5",
            "a0de9c8875d046a3a9c89ff4aad0be36",
            "3f70a7c80d7541d1878fe893f82d9e71",
            "3521996bc4e14f01a3e1a2c4925b8256",
            "8a694eb9cd944ad48127a2012e09c350",
            "2896623fc96c44329ec6297c5f51f766",
            "4af890b6078449b090d14c426f4354d6",
            "d365191e6a63473fb4089c87965798af",
            "36f792be23a24b74bc85008c39576ce7",
            "9005dfadc7784df6955f923b4064ccfd",
            "d095bb47740a46dab5577f5fd5f43bda",
            "fd98b15e80784f0f9fd2f9399700aa9d",
            "8d81792109ed411f936bb82ffb795433",
            "34c5cbf7c4594e6e93c3ac7a1e905d1e",
            "19a69d9dedb24db98871e959a68c782e",
            "fe4f40fa4f294a00a6f81d45fc9462e4",
            "5989d465acc848dea499e6721b247685",
            "e0d4907a7b8046eeaa450f4e7d97e6de",
            "4b6364912da44e14b1eff0763466a84e",
            "39d6e2fad0aa41c18a58a2c733f3b8a3",
            "d231bb0a4d054e5f9d16e4ec0cd9f0e0",
            "c94dc2321c054dbaba41db4abeb24c0d",
            "fb37378710894fbb9c7532068a8a9864",
            "cd929ec40d614d5e9100e01ace703ce6",
            "bdaa667ba0164abfa7910a42e3ef2779",
            "9ea41a9d68b1466b849c1ffcf450d98e",
            "841d82f8d2b94d5fa8c55e6b1880d5ca",
            "9f198d04ff984f1193cfd3a914d60e13",
            "cd4db5e6d1b542a194b5888ea7edf0f0",
            "a2f0896bdd2a46c6aa225b73c69ae53d",
            "95a7cf72387544799bd183f42d4dd6b8",
            "bf09a29ce5c3434a8238b35162cdbe28"
          ]
        },
        "outputId": "eabaf00a-c4bf-418f-ae7c-debefa38559e"
      },
      "source": [
        "import torchvision.transforms as transforms\n",
        "from torch.utils.data import DataLoader\n",
        "from torchvision.datasets import MNIST\n",
        "\n",
        "img_transform = transforms.Compose([\n",
        "    transforms.ToTensor(),\n",
        "    transforms.Normalize((0.5,), (0.5,))\n",
        "])\n",
        "\n",
        "train_dataset = MNIST(root='./data/MNIST', download=True, train=True, transform=img_transform)\n",
        "train_dataloader = DataLoader(train_dataset, batch_size=batch_size, shuffle=True)\n",
        "\n",
        "test_dataset = MNIST(root='./data/MNIST', download=True, train=False, transform=img_transform)\n",
        "test_dataloader = DataLoader(test_dataset, batch_size=batch_size, shuffle=True)"
      ],
      "execution_count": null,
      "outputs": [
        {
          "output_type": "stream",
          "text": [
            "Downloading http://yann.lecun.com/exdb/mnist/train-images-idx3-ubyte.gz to ./data/MNIST/MNIST/raw/train-images-idx3-ubyte.gz\n"
          ],
          "name": "stdout"
        },
        {
          "output_type": "display_data",
          "data": {
            "application/vnd.jupyter.widget-view+json": {
              "model_id": "c202918bbb444fc0a59c46ff1515ffe5",
              "version_minor": 0,
              "version_major": 2
            },
            "text/plain": [
              "HBox(children=(FloatProgress(value=1.0, bar_style='info', max=1.0), HTML(value='')))"
            ]
          },
          "metadata": {
            "tags": []
          }
        },
        {
          "output_type": "stream",
          "text": [
            "Extracting ./data/MNIST/MNIST/raw/train-images-idx3-ubyte.gz to ./data/MNIST/MNIST/raw\n",
            "Downloading http://yann.lecun.com/exdb/mnist/train-labels-idx1-ubyte.gz to ./data/MNIST/MNIST/raw/train-labels-idx1-ubyte.gz\n"
          ],
          "name": "stdout"
        },
        {
          "output_type": "display_data",
          "data": {
            "application/vnd.jupyter.widget-view+json": {
              "model_id": "36f792be23a24b74bc85008c39576ce7",
              "version_minor": 0,
              "version_major": 2
            },
            "text/plain": [
              "HBox(children=(FloatProgress(value=1.0, bar_style='info', max=1.0), HTML(value='')))"
            ]
          },
          "metadata": {
            "tags": []
          }
        },
        {
          "output_type": "stream",
          "text": [
            "Extracting ./data/MNIST/MNIST/raw/train-labels-idx1-ubyte.gz to ./data/MNIST/MNIST/raw\n",
            "Downloading http://yann.lecun.com/exdb/mnist/t10k-images-idx3-ubyte.gz to ./data/MNIST/MNIST/raw/t10k-images-idx3-ubyte.gz\n",
            "\n",
            "\n"
          ],
          "name": "stdout"
        },
        {
          "output_type": "display_data",
          "data": {
            "application/vnd.jupyter.widget-view+json": {
              "model_id": "5989d465acc848dea499e6721b247685",
              "version_minor": 0,
              "version_major": 2
            },
            "text/plain": [
              "HBox(children=(FloatProgress(value=1.0, bar_style='info', max=1.0), HTML(value='')))"
            ]
          },
          "metadata": {
            "tags": []
          }
        },
        {
          "output_type": "stream",
          "text": [
            "Extracting ./data/MNIST/MNIST/raw/t10k-images-idx3-ubyte.gz to ./data/MNIST/MNIST/raw\n",
            "Downloading http://yann.lecun.com/exdb/mnist/t10k-labels-idx1-ubyte.gz to ./data/MNIST/MNIST/raw/t10k-labels-idx1-ubyte.gz\n"
          ],
          "name": "stdout"
        },
        {
          "output_type": "display_data",
          "data": {
            "application/vnd.jupyter.widget-view+json": {
              "model_id": "bdaa667ba0164abfa7910a42e3ef2779",
              "version_minor": 0,
              "version_major": 2
            },
            "text/plain": [
              "HBox(children=(FloatProgress(value=1.0, bar_style='info', max=1.0), HTML(value='')))"
            ]
          },
          "metadata": {
            "tags": []
          }
        },
        {
          "output_type": "stream",
          "text": [
            "Extracting ./data/MNIST/MNIST/raw/t10k-labels-idx1-ubyte.gz to ./data/MNIST/MNIST/raw\n",
            "Processing...\n",
            "Done!\n"
          ],
          "name": "stdout"
        },
        {
          "output_type": "stream",
          "text": [
            "/usr/local/lib/python3.6/dist-packages/torchvision/datasets/mnist.py:480: UserWarning: The given NumPy array is not writeable, and PyTorch does not support non-writeable tensors. This means you can write to the underlying (supposedly non-writeable) NumPy array using the tensor. You may want to copy the array to protect its data or make it writeable before converting it to a tensor. This type of warning will be suppressed for the rest of this program. (Triggered internally at  /pytorch/torch/csrc/utils/tensor_numpy.cpp:141.)\n",
            "  return torch.from_numpy(parsed.astype(m[2], copy=False)).view(*s)\n"
          ],
          "name": "stderr"
        }
      ]
    },
    {
      "cell_type": "markdown",
      "metadata": {
        "id": "NDM1UfsWzGYX"
      },
      "source": [
        "Autoencoder Definition\n",
        "-----------------------\n",
        "For $\\mathcal{l}$=8, there are 8 linear layers that the output of the encoder is passed through to get the latent code\n",
        "\n"
      ]
    },
    {
      "cell_type": "code",
      "metadata": {
        "id": "kz2PWzzw03b3"
      },
      "source": [
        "from __future__ import print_function\n",
        "import argparse\n",
        "import os\n",
        "import math\n",
        "import matplotlib.pyplot as plt"
      ],
      "execution_count": null,
      "outputs": []
    },
    {
      "cell_type": "code",
      "metadata": {
        "id": "HvJvVIMPzzAL"
      },
      "source": [
        "import numpy as np\n",
        "from torch.nn.utils import prune\n",
        "import torch\n",
        "import torch.nn as nn\n",
        "import torch.nn.functional as F\n",
        "import torch.optim as optim\n",
        "from torchvision import datasets, transforms\n",
        "from torch.optim.lr_scheduler import CosineAnnealingLR\n",
        "import torch.autograd as autograd"
      ],
      "execution_count": null,
      "outputs": []
    },
    {
      "cell_type": "markdown",
      "metadata": {
        "id": "g8ZZbWuF65EG"
      },
      "source": [
        "Refer to Ramanujan et. al What'ss "
      ]
    },
    {
      "cell_type": "code",
      "metadata": {
        "id": "OWJZph0ozcT1"
      },
      "source": [
        "class GetSubnet(autograd.Function):\n",
        "    @staticmethod\n",
        "    def forward(ctx, scores, k):\n",
        "        # Get the supermask by sorting the scores and using the top k%\n",
        "        out = scores.clone()\n",
        "        _, idx = scores.flatten().sort()\n",
        "        j = int((1 - k) * scores.numel())\n",
        " \n",
        "        # flat_out and out access the same memory.\n",
        "        flat_out = out.flatten()\n",
        "        flat_out[idx[:j]] = 0\n",
        "        flat_out[idx[j:]] = 1\n",
        " \n",
        "        return out\n",
        " \n",
        "    @staticmethod\n",
        "    def backward(ctx, g):\n",
        "        # send the gradient g straight-through on the backward pass.\n",
        "        return g, None"
      ],
      "execution_count": null,
      "outputs": []
    },
    {
      "cell_type": "code",
      "metadata": {
        "id": "JpOo27OU1C0c"
      },
      "source": [
        "## define sparsity\n",
        "k = 0.5"
      ],
      "execution_count": null,
      "outputs": []
    },
    {
      "cell_type": "code",
      "metadata": {
        "id": "1uZyIgLBzjrr"
      },
      "source": [
        "class SupermaskLinear(nn.Linear):\n",
        "    def __init__(self, *args, **kwargs):\n",
        "        super().__init__(*args, **kwargs)\n",
        " \n",
        "        # initialize the scores\n",
        "        self.scores = nn.Parameter(torch.Tensor(self.weight.size()))\n",
        "        nn.init.kaiming_uniform_(self.scores, a=math.sqrt(5))\n",
        " \n",
        "        # NOTE: initialize the weights like this.\n",
        "        nn.init.kaiming_normal_(self.weight, mode=\"fan_in\", nonlinearity=\"relu\")\n",
        " \n",
        "        # NOTE: turn the gradient on the weights off\n",
        "        self.weight.requires_grad = False\n",
        " \n",
        "    def forward(self, x):\n",
        "        subnet = GetSubnet.apply(self.scores.abs(), k)\n",
        "        w = self.weight * subnet\n",
        "        return F.linear(x, w, self.bias)\n",
        "        return x"
      ],
      "execution_count": null,
      "outputs": []
    },
    {
      "cell_type": "code",
      "metadata": {
        "id": "n9qLW4am0RRw"
      },
      "source": [
        "class SupermaskConvTranspose(nn.ConvTranspose2d):\n",
        "    def __init__(self, *args, **kwargs):\n",
        "        super().__init__(*args, **kwargs)\n",
        "\n",
        "        # initialize the scores\n",
        "        self.scores = nn.Parameter(torch.Tensor(self.weight.size()))\n",
        "        nn.init.kaiming_uniform_(self.scores, a=math.sqrt(5))\n",
        "\n",
        "        # NOTE: initialize the weights like this.\n",
        "        nn.init.kaiming_normal_(self.weight, mode=\"fan_in\", nonlinearity=\"relu\")\n",
        "\n",
        "        # NOTE: turn the gradient on the weights off\n",
        "        self.weight.requires_grad = False\n",
        "        \n",
        "    def forward(self, x):\n",
        "        subnet = GetSubnet.apply(self.scores.abs(), k)\n",
        "        w = self.weight * subnet\n",
        "        x = F.conv_transpose2d(\n",
        "            x, w, self.bias, self.stride, self.padding, self.output_padding, self.groups, self.dilation \n",
        "        )\n",
        "        return x"
      ],
      "execution_count": null,
      "outputs": []
    },
    {
      "cell_type": "code",
      "metadata": {
        "id": "RhCEcalKztW6"
      },
      "source": [
        "class SupermaskConv(nn.Conv2d):\n",
        "    def __init__(self, *args, **kwargs):\n",
        "        super().__init__(*args, **kwargs)\n",
        "\n",
        "        # initialize the scores\n",
        "        self.scores = nn.Parameter(torch.Tensor(self.weight.size()))\n",
        "        nn.init.kaiming_uniform_(self.scores, a=math.sqrt(5))\n",
        "\n",
        "        # NOTE: initialize the weights like this.\n",
        "        nn.init.kaiming_normal_(self.weight, mode=\"fan_in\", nonlinearity=\"relu\")\n",
        "\n",
        "        # NOTE: turn the gradient on the weights off\n",
        "        self.weight.requires_grad = False\n",
        "\n",
        "    def forward(self, x):\n",
        "        subnet = GetSubnet.apply(self.scores.abs(), k)\n",
        "        w = self.weight * subnet\n",
        "        x = F.conv2d(\n",
        "            x, w, self.bias, self.stride, self.padding, self.dilation, self.groups\n",
        "        )\n",
        "        return x"
      ],
      "execution_count": null,
      "outputs": []
    },
    {
      "cell_type": "code",
      "metadata": {
        "id": "dlGCn5LVzGYd"
      },
      "source": [
        "class Encoder(nn.Module):\n",
        "    def __init__(self):\n",
        "        super(Encoder, self).__init__()\n",
        "        c = capacity\n",
        "        self.conv1 = SupermaskConv(in_channels=1, out_channels=c, kernel_size=4, stride=2, padding=1) # out: c x 14 x 14\n",
        "        self.conv2 = SupermaskConv(in_channels=c, out_channels=c*2, kernel_size=4, stride=2, padding=1) # out: c x 7 x 7\n",
        "        self.conv3 = SupermaskConv(in_channels=c*2, out_channels=c, kernel_size=1) # out: c x 7 x 7\n",
        "        self.fc = SupermaskLinear(in_features=c*7*7, out_features=latent_dims)\n",
        "        \n",
        "    def forward(self, x):\n",
        "        x = F.relu(self.conv1(x))\n",
        "        x = F.relu(self.conv2(x))\n",
        "        x = F.relu(self.conv3(x))\n",
        "        x = x.view(x.size(0), -1) # flatten batch of multi-channel feature maps to a batch of feature vectors\n",
        "        x = self.fc(x)\n",
        "        \n",
        "        return x\n",
        "        "
      ],
      "execution_count": null,
      "outputs": []
    },
    {
      "cell_type": "code",
      "metadata": {
        "id": "Mw_E1VgMVeUb"
      },
      "source": [
        "class LNN(nn.Module):\n",
        "    def __init__(self, num_of_linear_layers, type):\n",
        "        self.num_of_linear_layers = num_of_linear_layers\n",
        "        super(LNN, self).__init__()\n",
        "\n",
        "        self.linear_layer = nn.ModuleList([SupermaskLinear(in_features=latent_dims, out_features=latent_dims) for _ in range(num_of_linear_layers)])\n",
        "        self.forward = self.forward_linear\n",
        "        \n",
        "    def forward_linear(self, x):\n",
        "        for layer in self.linear_layer:\n",
        "            x = layer(x)\n",
        "        return x"
      ],
      "execution_count": null,
      "outputs": []
    },
    {
      "cell_type": "code",
      "metadata": {
        "id": "S_YrIGLGVUen"
      },
      "source": [
        "class Decoder(nn.Module):\n",
        "    def __init__(self):\n",
        "        super(Decoder, self).__init__()\n",
        "        c = capacity\n",
        "        self.fc = SupermaskLinear(in_features=latent_dims, out_features=c*7*7)\n",
        "        self.conv3 = SupermaskConvTranspose(in_channels=c, out_channels=c*2, kernel_size=1)\n",
        "        self.conv2 = SupermaskConvTranspose(in_channels=c*2, out_channels=c, kernel_size=4, stride=2, padding=1)\n",
        "        self.conv1 = SupermaskConvTranspose(in_channels=c, out_channels=1, kernel_size=4, stride=2, padding=1)\n",
        "        \n",
        "            \n",
        "    def forward(self, x):\n",
        "        x = self.fc(x)\n",
        "        x = x.view(x.size(0), capacity, 7, 7) # unflatten batch of feature vectors to a batch of multi-channel feature maps\n",
        "        x = F.relu(self.conv3(x))\n",
        "        x = F.relu(self.conv2(x))\n",
        "        x = torch.tanh(self.conv1(x)) # last layer before output is tanh, since the images are normalized and 0-centered\n",
        "        return x\n",
        "        # x = self.decoder(x)\n",
        "        # x = x.view(x.size(0), 1, 28, 28)\n",
        "        # return x"
      ],
      "execution_count": null,
      "outputs": []
    },
    {
      "cell_type": "code",
      "metadata": {
        "id": "iRcYwDQ6XPxn"
      },
      "source": [
        "class Autoencoder(nn.Module):\n",
        "    def __init__(self, *args, **kwargs):\n",
        "        super(Autoencoder, self).__init__()\n",
        "        self.encoder = Encoder()\n",
        "        self.lnn = LNN(*args, **kwargs)\n",
        "        self.decoder = Decoder()\n",
        "    \n",
        "    def forward(self, x):\n",
        "        latent = self.encoder(x)\n",
        "        min_rank_latent = self.lnn(latent)\n",
        "        x_recon = self.decoder(min_rank_latent)\n",
        "        # x_recon = self.decoder(latent)\n",
        "        return x_recon"
      ],
      "execution_count": null,
      "outputs": []
    },
    {
      "cell_type": "code",
      "metadata": {
        "id": "si7FrvJJViaS",
        "colab": {
          "base_uri": "https://localhost:8080/"
        },
        "outputId": "4926d40d-9cf9-45d4-bc86-62f528594e58"
      },
      "source": [
        "autoencoder = Autoencoder(8,'linear')\n",
        "\n",
        "device = torch.device(\"cuda:0\" if use_gpu and torch.cuda.is_available() else \"cpu\")\n",
        "autoencoder = autoencoder.to(device)\n",
        "\n",
        "num_params = sum(p.numel() for p in autoencoder.parameters() if p.requires_grad)\n",
        "print('Number of parameters: %d' % num_params)"
      ],
      "execution_count": null,
      "outputs": [
        {
          "output_type": "stream",
          "text": [
            "Number of parameters: 474561\n"
          ],
          "name": "stdout"
        }
      ]
    },
    {
      "cell_type": "code",
      "metadata": {
        "id": "BnRrzyMKwyfc",
        "colab": {
          "base_uri": "https://localhost:8080/"
        },
        "outputId": "f99ef1a1-d0c5-4275-b5ea-a323acf6c3cc"
      },
      "source": [
        "autoencoder(torch.rand(128,1,28,28).cuda()).shape"
      ],
      "execution_count": null,
      "outputs": [
        {
          "output_type": "execute_result",
          "data": {
            "text/plain": [
              "torch.Size([128, 1, 28, 28])"
            ]
          },
          "metadata": {
            "tags": []
          },
          "execution_count": 16
        }
      ]
    },
    {
      "cell_type": "markdown",
      "metadata": {
        "id": "8m5uyr4zzGY6"
      },
      "source": [
        "Train Autoencoder\n",
        "--------"
      ]
    },
    {
      "cell_type": "code",
      "metadata": {
        "id": "3nWKuIeiWKUK"
      },
      "source": [
        "def train(layers=0, type=\"linear\", model=None, lr=1e-3, num_epochs=50):\n",
        "    print(lr)\n",
        "    if model == None:\n",
        "        autoencoder = Autoencoder(layers, type)\n",
        "    else:\n",
        "        autoencoder = model\n",
        "    \n",
        "    device = torch.device(\"cuda:0\" if use_gpu and torch.cuda.is_available() else \"cpu\")\n",
        "    autoencoder = autoencoder.to(device)\n",
        "    num_params = sum(p.numel() for p in autoencoder.parameters() if p.requires_grad)\n",
        "    print('Number of parameters: %d' % num_params)\n",
        "    optimizer = torch.optim.Adam(params=autoencoder.parameters(), lr=learning_rate)#, momentum=0.5)\n",
        "\n",
        "    # set to training mode\n",
        "    autoencoder.train()\n",
        "\n",
        "    train_loss_avg = []\n",
        "\n",
        "    print('Training ...')\n",
        "    for epoch in range(num_epochs):\n",
        "        train_loss_avg.append(0)\n",
        "        num_batches = 0\n",
        "        \n",
        "        for image_batch, _ in train_dataloader:\n",
        "            # print(image_batch.shape)\n",
        "            image_batch = image_batch.to(device)\n",
        "            \n",
        "            # autoencoder reconstruction\n",
        "            image_batch_recon = autoencoder(image_batch)\n",
        "            \n",
        "            # reconstruction error\n",
        "            loss = F.mse_loss(image_batch_recon, image_batch)\n",
        "            \n",
        "            # backpropagation\n",
        "            optimizer.zero_grad()\n",
        "            loss.backward()\n",
        "            \n",
        "            # one step of the optmizer (using the gradients from backpropagation)\n",
        "            optimizer.step()\n",
        "            \n",
        "            train_loss_avg[-1] += loss.item()\n",
        "            num_batches += 1\n",
        "            \n",
        "        train_loss_avg[-1] /= num_batches\n",
        "        print('Epoch [%d / %d] average reconstruction error: %f' % (epoch+1, num_epochs, train_loss_avg[-1]))\n",
        "    return autoencoder, train_loss_avg"
      ],
      "execution_count": null,
      "outputs": []
    },
    {
      "cell_type": "code",
      "metadata": {
        "id": "5CLL_MhfyPty"
      },
      "source": [
        "capacity = 24"
      ],
      "execution_count": null,
      "outputs": []
    },
    {
      "cell_type": "code",
      "metadata": {
        "id": "-RoVRnIhKvkB",
        "colab": {
          "base_uri": "https://localhost:8080/"
        },
        "outputId": "41554779-b341-4bc5-c5fe-7cf612ce4084"
      },
      "source": [
        "standard_ae, standard_ae_train_loss_avg = train(0, 'linear', num_epochs=20)"
      ],
      "execution_count": 129,
      "outputs": [
        {
          "output_type": "stream",
          "text": [
            "0.001\n",
            "Number of parameters: 342465\n",
            "Training ...\n",
            "Epoch [1 / 20] average reconstruction error: 0.108380\n",
            "Epoch [2 / 20] average reconstruction error: 0.042558\n",
            "Epoch [3 / 20] average reconstruction error: 0.037294\n",
            "Epoch [4 / 20] average reconstruction error: 0.035595\n",
            "Epoch [5 / 20] average reconstruction error: 0.034318\n",
            "Epoch [6 / 20] average reconstruction error: 0.033756\n",
            "Epoch [7 / 20] average reconstruction error: 0.032691\n",
            "Epoch [8 / 20] average reconstruction error: 0.031772\n",
            "Epoch [9 / 20] average reconstruction error: 0.031426\n",
            "Epoch [10 / 20] average reconstruction error: 0.030841\n",
            "Epoch [11 / 20] average reconstruction error: 0.030420\n",
            "Epoch [12 / 20] average reconstruction error: 0.029789\n",
            "Epoch [13 / 20] average reconstruction error: 0.029646\n",
            "Epoch [14 / 20] average reconstruction error: 0.029647\n",
            "Epoch [15 / 20] average reconstruction error: 0.029077\n",
            "Epoch [16 / 20] average reconstruction error: 0.029077\n",
            "Epoch [17 / 20] average reconstruction error: 0.028596\n",
            "Epoch [18 / 20] average reconstruction error: 0.028557\n",
            "Epoch [19 / 20] average reconstruction error: 0.028509\n",
            "Epoch [20 / 20] average reconstruction error: 0.028718\n"
          ],
          "name": "stdout"
        }
      ]
    },
    {
      "cell_type": "code",
      "metadata": {
        "id": "l1Vird5_LECZ"
      },
      "source": [
        "linear_irmae = Autoencoder(8,'linear')"
      ],
      "execution_count": 102,
      "outputs": []
    },
    {
      "cell_type": "code",
      "metadata": {
        "id": "jl88tqpZMv40"
      },
      "source": [
        "from copy import deepcopy"
      ],
      "execution_count": null,
      "outputs": []
    },
    {
      "cell_type": "markdown",
      "metadata": {
        "id": "XWt9sNesRnuh"
      },
      "source": [
        "Creating copy of the initial parameters to verify that the weights have not changed and remained the same"
      ]
    },
    {
      "cell_type": "code",
      "metadata": {
        "id": "bQDlBIp0M0vT"
      },
      "source": [
        "a = deepcopy(linear_irmae.encoder.fc.weight.data.cpu().numpy())\n",
        "b = deepcopy(linear_irmae.lnn.linear_layer[0].weight.data.cpu().numpy())\n",
        "c = deepcopy(linear_irmae.decoder.fc.scores.data.cpu().numpy())"
      ],
      "execution_count": 106,
      "outputs": []
    },
    {
      "cell_type": "code",
      "metadata": {
        "colab": {
          "base_uri": "https://localhost:8080/"
        },
        "id": "eNEB5cCMNNdh",
        "outputId": "b296d530-bc60-4c55-b095-76998742798c"
      },
      "source": [
        "print(np.all(linear_irmae.encoder.fc.weight.data.cpu().numpy() == a))\n",
        "print(np.all(b == linear_irmae.lnn.linear_layer[0].weight.data.cpu().numpy()))\n",
        "print(np.all(c == linear_irmae.decoder.fc.scores.data.cpu().numpy()))\n",
        "\n",
        "## They are equal initially"
      ],
      "execution_count": 116,
      "outputs": [
        {
          "output_type": "stream",
          "text": [
            "True\n",
            "True\n",
            "True\n"
          ],
          "name": "stdout"
        }
      ]
    },
    {
      "cell_type": "code",
      "metadata": {
        "colab": {
          "base_uri": "https://localhost:8080/"
        },
        "id": "Xiwwf2DTOif0",
        "outputId": "13441465-7037-4e3d-f463-6fabb595147c"
      },
      "source": [
        "linear_irmae, linear_train_loss_avg = train(model=linear_irmae, lr=1e-1, num_epochs=20)"
      ],
      "execution_count": 117,
      "outputs": [
        {
          "output_type": "stream",
          "text": [
            "0.1\n",
            "Number of parameters: 474561\n",
            "Training ...\n",
            "Epoch [1 / 20] average reconstruction error: 0.141108\n",
            "Epoch [2 / 20] average reconstruction error: 0.073877\n",
            "Epoch [3 / 20] average reconstruction error: 0.067616\n",
            "Epoch [4 / 20] average reconstruction error: 0.065348\n",
            "Epoch [5 / 20] average reconstruction error: 0.064411\n",
            "Epoch [6 / 20] average reconstruction error: 0.062969\n",
            "Epoch [7 / 20] average reconstruction error: 0.061190\n",
            "Epoch [8 / 20] average reconstruction error: 0.060086\n",
            "Epoch [9 / 20] average reconstruction error: 0.059994\n",
            "Epoch [10 / 20] average reconstruction error: 0.059425\n",
            "Epoch [11 / 20] average reconstruction error: 0.058197\n",
            "Epoch [12 / 20] average reconstruction error: 0.057615\n",
            "Epoch [13 / 20] average reconstruction error: 0.056382\n",
            "Epoch [14 / 20] average reconstruction error: 0.055846\n",
            "Epoch [15 / 20] average reconstruction error: 0.055192\n",
            "Epoch [16 / 20] average reconstruction error: 0.055151\n",
            "Epoch [17 / 20] average reconstruction error: 0.054802\n",
            "Epoch [18 / 20] average reconstruction error: 0.054498\n",
            "Epoch [19 / 20] average reconstruction error: 0.054146\n",
            "Epoch [20 / 20] average reconstruction error: 0.053771\n"
          ],
          "name": "stdout"
        }
      ]
    },
    {
      "cell_type": "code",
      "metadata": {
        "colab": {
          "base_uri": "https://localhost:8080/"
        },
        "id": "eBl3OnC5ThiC",
        "outputId": "2c920427-2260-4bb8-9fde-3783490482dc"
      },
      "source": [
        "## Check again to see if the weights are still equal or not\n",
        "\n",
        "print(np.all(a == linear_irmae.encoder.fc.weight.data.cpu().numpy()))\n",
        "print(np.all(b == linear_irmae.lnn.linear_layer[0].weight.data.cpu().numpy()))\n",
        "print(np.all(c == linear_irmae.decoder.fc.scores.data.cpu().numpy()))\n"
      ],
      "execution_count": 145,
      "outputs": [
        {
          "output_type": "stream",
          "text": [
            "True\n",
            "True\n",
            "False\n"
          ],
          "name": "stdout"
        }
      ]
    },
    {
      "cell_type": "markdown",
      "metadata": {
        "id": "hxovz331UDlw"
      },
      "source": [
        "Note that only the scores have changed but that does not make any difference to us because top-k% scores will determine the mask of the weights to be used. Only the weights with top-k% scores are used to find the output and since the weights haven't changed SGD should not show any effect regarding the generalization or rank minimization of the network."
      ]
    },
    {
      "cell_type": "code",
      "metadata": {
        "id": "WjN6SmXSaEEz",
        "colab": {
          "base_uri": "https://localhost:8080/",
          "height": 279
        },
        "outputId": "3238b578-1bd9-44da-9612-ea7e48d9669f"
      },
      "source": [
        "fig = plt.figure()\n",
        "plt.plot(standard_ae_train_loss_avg, label=\"Standard\")\n",
        "plt.plot(linear_train_loss_avg, label=\"Linear\")\n",
        "plt.legend(loc=\"upper right\")\n",
        "plt.xlabel('Epochs')\n",
        "plt.ylabel('Reconstruction error')\n",
        "plt.show()\n",
        "# plt.savefig(\"train_plot_1.png\")"
      ],
      "execution_count": 130,
      "outputs": [
        {
          "output_type": "display_data",
          "data": {
            "image/png": "[encoded data removed]",
            "text/plain": [
              "<Figure size 432x288 with 1 Axes>"
            ]
          },
          "metadata": {
            "tags": [],
            "needs_background": "light"
          }
        }
      ]
    },
    {
      "cell_type": "markdown",
      "metadata": {
        "id": "mu2vljB5zGaU"
      },
      "source": [
        "Evaluate on the Test Set\n",
        "-------------------------"
      ]
    },
    {
      "cell_type": "code",
      "metadata": {
        "id": "oiUTRCyU4h90"
      },
      "source": [
        "def get_singular_values(trained_irmae):\n",
        "    cov_latent = torch.zeros((latent_dims,latent_dims)).to(device)\n",
        "    trained_irmae.eval()\n",
        "    test_loss_avg, num_batches = 0, 0\n",
        "    for image_batch, _ in test_dataloader:\n",
        "        \n",
        "        with torch.no_grad():\n",
        "\n",
        "            image_batch = image_batch.to(device)\n",
        "\n",
        "            # autoencoder reconstruction\n",
        "            latent = trained_irmae.encoder(image_batch)\n",
        "            min_rank_latent = trained_irmae.lnn(latent)\n",
        "            cov_latent += min_rank_latent.T @ min_rank_latent\n",
        "            image_batch_recon = trained_irmae(image_batch)\n",
        "\n",
        "            # reconstruction error\n",
        "            loss = F.mse_loss(image_batch_recon, image_batch)\n",
        "\n",
        "            test_loss_avg += loss.item()\n",
        "            num_batches += 1\n",
        "        \n",
        "    test_loss_avg /= num_batches\n",
        "    print('average reconstruction error: %f' % (test_loss_avg))\n",
        "    _,d,_ = torch.svd(cov_latent)\n",
        "    return cov_latent, (d/d.max()).cpu()"
      ],
      "execution_count": 121,
      "outputs": []
    },
    {
      "cell_type": "code",
      "metadata": {
        "id": "SSb86zZa5H35",
        "colab": {
          "base_uri": "https://localhost:8080/"
        },
        "outputId": "55ca4f94-ccf3-44d0-d731-c2ca29987dee"
      },
      "source": [
        "standard_cov, standard_ae_singular_values = get_singular_values(standard_ae)\n",
        "linear_cov, linear_singular_values = get_singular_values(linear_irmae)"
      ],
      "execution_count": 143,
      "outputs": [
        {
          "output_type": "stream",
          "text": [
            "average reconstruction error: 0.025495\n",
            "average reconstruction error: 0.053427\n"
          ],
          "name": "stdout"
        }
      ]
    },
    {
      "cell_type": "code",
      "metadata": {
        "id": "Ip9CutPaZLAV",
        "colab": {
          "base_uri": "https://localhost:8080/"
        },
        "outputId": "c92435ae-9bde-4334-83c3-b134b73288c8"
      },
      "source": [
        "print(torch.matrix_rank(standard_cov))\n",
        "print(torch.matrix_rank(linear_cov))"
      ],
      "execution_count": 144,
      "outputs": [
        {
          "output_type": "stream",
          "text": [
            "tensor(128, device='cuda:0')\n",
            "tensor(27, device='cuda:0')\n"
          ],
          "name": "stdout"
        }
      ]
    },
    {
      "cell_type": "markdown",
      "metadata": {
        "id": "5nfNGCzMYme6"
      },
      "source": [
        "Surprisingly, the rank of the latent space covariance matrix for the network with linear layers inserted is much less than of the standard variant without any linear layer inserted. This is contradictory to the results presented by many papers that show that SGD causes the implicit rank minimization effect. Yet, here we see that network with weights which are completely frozen from the beginning and never updated using SGD still show rank minimization property."
      ]
    },
    {
      "cell_type": "code",
      "metadata": {
        "id": "l7RHNqYRBgzP",
        "colab": {
          "base_uri": "https://localhost:8080/",
          "height": 509
        },
        "outputId": "095273fb-ee8b-4c7a-ac4b-6d5363742bcd"
      },
      "source": [
        "from matplotlib.pyplot import figure\n",
        "figure(num=None, figsize=(9, 7), dpi=80, facecolor='w', edgecolor='k')\n",
        "plt.plot(standard_ae_singular_values, label=f'Standard AE, Latent space dimension - {torch.matrix_rank(standard_cov)}')\n",
        "plt.plot(linear_singular_values, label=f'Linear, Latent space dimension - {torch.matrix_rank(linear_cov)}')\n",
        "plt.ylabel('Singular Values')\n",
        "plt.xlabel('Singular Value Rank')\n",
        "plt.legend(loc=\"upper right\")\n",
        "plt.ylim(0,0.2)"
      ],
      "execution_count": 133,
      "outputs": [
        {
          "output_type": "execute_result",
          "data": {
            "text/plain": [
              "(0.0, 0.2)"
            ]
          },
          "metadata": {
            "tags": []
          },
          "execution_count": 133
        },
        {
          "output_type": "display_data",
          "data": {
            "image/png": "[encoded data removed]",
            "text/plain": [
              "<Figure size 720x560 with 1 Axes>"
            ]
          },
          "metadata": {
            "tags": []
          }
        }
      ]
    },
    {
      "cell_type": "markdown",
      "metadata": {
        "id": "YFElVRAwzGav"
      },
      "source": [
        "Visualize Reconstructions\n",
        "--------------------------"
      ]
    },
    {
      "cell_type": "code",
      "metadata": {
        "id": "0VVWBzmp8DAI"
      },
      "source": [
        "# autoencoder = standard_ae\n",
        "autoencoder = linear_irmae"
      ],
      "execution_count": 140,
      "outputs": []
    },
    {
      "cell_type": "code",
      "metadata": {
        "id": "nqHkVZ2VzGa1",
        "colab": {
          "base_uri": "https://localhost:8080/",
          "height": 460
        },
        "outputId": "97e86a3e-35e0-4230-b48f-83320457fa3c"
      },
      "source": [
        "import numpy as np\n",
        "import matplotlib.pyplot as plt\n",
        "plt.ion()\n",
        "\n",
        "import torchvision.utils\n",
        "\n",
        "autoencoder.eval()\n",
        "\n",
        "# This function takes as an input the images to reconstruct\n",
        "# and the name of the model with which the reconstructions\n",
        "# are performed\n",
        "def to_img(x):\n",
        "    x = 0.5 * (x + 1)\n",
        "    x = x.clamp(0, 1)\n",
        "    return x\n",
        "\n",
        "def show_image(img):\n",
        "    img = to_img(img)\n",
        "    npimg = img.numpy()\n",
        "    plt.imshow(np.transpose(npimg, (1, 2, 0)))\n",
        "\n",
        "def visualise_output(images, model):\n",
        "\n",
        "    with torch.no_grad():\n",
        "\n",
        "        images = images.to(device)\n",
        "        images = model(images)\n",
        "        images = images.cpu()\n",
        "        images = to_img(images)\n",
        "        np_imagegrid = torchvision.utils.make_grid(images[1:50], 10, 5).numpy()\n",
        "        plt.imshow(np.transpose(np_imagegrid, (1, 2, 0)))\n",
        "        plt.show()\n",
        "\n",
        "images, labels = iter(test_dataloader).next()\n",
        "\n",
        "# First visualise the original images\n",
        "print('Original images')\n",
        "show_image(torchvision.utils.make_grid(images[1:50],10,5))\n",
        "plt.show()\n",
        "\n",
        "# Reconstruct and visualise the images using the autoencoder\n",
        "print('Autoencoder reconstruction:')\n",
        "visualise_output(images, autoencoder)"
      ],
      "execution_count": 141,
      "outputs": [
        {
          "output_type": "stream",
          "text": [
            "Original images\n"
          ],
          "name": "stdout"
        },
        {
          "output_type": "display_data",
          "data": {
            "image/png": "[encoded data removed]",
            "text/plain": [
              "<Figure size 432x288 with 1 Axes>"
            ]
          },
          "metadata": {
            "tags": [],
            "needs_background": "light"
          }
        },
        {
          "output_type": "stream",
          "text": [
            "Autoencoder reconstruction:\n"
          ],
          "name": "stdout"
        },
        {
          "output_type": "display_data",
          "data": {
            "image/png": "[encoded data removed]",
            "text/plain": [
              "<Figure size 432x288 with 1 Axes>"
            ]
          },
          "metadata": {
            "tags": [],
            "needs_background": "light"
          }
        }
      ]
    },
    {
      "cell_type": "markdown",
      "metadata": {
        "id": "jeGqUTBhzGbL"
      },
      "source": [
        "Interpolate in Latent Space\n",
        "----------------------------"
      ]
    },
    {
      "cell_type": "code",
      "metadata": {
        "id": "lqxOyjhEzGbP",
        "colab": {
          "base_uri": "https://localhost:8080/",
          "height": 390
        },
        "outputId": "84db3fb8-1c07-42b8-f317-cda5528c1c8e"
      },
      "source": [
        "autoencoder.eval()\n",
        "\n",
        "def interpolation(lambda1, model, img1, img2):\n",
        "    \n",
        "    with torch.no_grad():\n",
        "\n",
        "        # latent vector of first image\n",
        "        img1 = img1.to(device)\n",
        "        latent_1 = model.encoder(img1)\n",
        "        latent_1 = model.lnn(latent_1)\n",
        "        \n",
        "\n",
        "        # latent vector of second image\n",
        "        img2 = img2.to(device)\n",
        "        latent_2 = model.encoder(img2)\n",
        "        latent_2 = model.lnn(latent_2)\n",
        "\n",
        "        # interpolation of the two latent vectors\n",
        "        inter_latent = lambda1 * latent_1 + (1- lambda1) * latent_2\n",
        "\n",
        "        # reconstruct interpolated image\n",
        "        inter_image = model.decoder(inter_latent)\n",
        "        inter_image = inter_image.cpu()\n",
        "    \n",
        "    return inter_image\n",
        "    \n",
        "# sort part of test set by digit\n",
        "digits = [[] for _ in range(10)]\n",
        "for img_batch, label_batch in test_dataloader:\n",
        "    for i in range(img_batch.size(0)):\n",
        "        digits[label_batch[i]].append(img_batch[i:i+1])\n",
        "    if sum(len(d) for d in digits) >= 1000:\n",
        "        break;\n",
        "\n",
        "# interpolation lambdas\n",
        "lambda_range=np.linspace(0,1,10)\n",
        "\n",
        "fig, axs = plt.subplots(2,5, figsize=(15, 6))\n",
        "fig.subplots_adjust(hspace = .5, wspace=.001)\n",
        "axs = axs.ravel()\n",
        "\n",
        "\n",
        "for ind,l in enumerate(lambda_range):\n",
        "    inter_image=interpolation(float(l), autoencoder, digits[5][0], digits[4][45])\n",
        "  \n",
        "    inter_image = to_img(inter_image)\n",
        "    \n",
        "    image = inter_image.numpy()\n",
        "  \n",
        "    axs[ind].imshow(image[0,0,:,:], cmap='gray')\n",
        "    axs[ind].set_title('lambda_val='+str(round(l,1)))\n",
        "\n",
        "plt.show() "
      ],
      "execution_count": 142,
      "outputs": [
        {
          "output_type": "display_data",
          "data": {
            "image/png": "[encoded data removed]",
            "text/plain": [
              "<Figure size 1080x432 with 10 Axes>"
            ]
          },
          "metadata": {
            "tags": [],
            "needs_background": "light"
          }
        }
      ]
    },
    {
      "cell_type": "code",
      "metadata": {
        "id": "ARG4cfUgVbIq"
      },
      "source": [
        ""
      ],
      "execution_count": null,
      "outputs": []
    }
  ]
}